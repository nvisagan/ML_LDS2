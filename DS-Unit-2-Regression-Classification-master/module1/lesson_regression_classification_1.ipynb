{
  "nbformat": 4,
  "nbformat_minor": 0,
  "metadata": {
    "colab": {
      "name": "lesson_regression_classification_1.ipynb",
      "version": "0.3.2",
      "provenance": [],
      "collapsed_sections": []
    },
    "kernelspec": {
      "name": "python3",
      "display_name": "Python 3"
    }
  },
  "cells": [
    {
      "cell_type": "markdown",
      "metadata": {
        "id": "MbtnIC3eovSf",
        "colab_type": "text"
      },
      "source": [
        "Lambda School Data Science, Unit 2: Predictive Modeling\n",
        "\n",
        "# Regression & Classification, Module 1\n",
        "\n",
        "## Objectives\n",
        "- Clean data & remove outliers\n",
        "- Use scikit-learn for linear regression\n",
        "- Organize & comment code"
      ]
    },
    {
      "cell_type": "markdown",
      "metadata": {
        "id": "nZhywVQHAwXQ",
        "colab_type": "text"
      },
      "source": [
        "## Setup"
      ]
    },
    {
      "cell_type": "markdown",
      "metadata": {
        "id": "MIfx2Lb7olOn",
        "colab_type": "text"
      },
      "source": [
        "#### If you're using [Anaconda](https://www.anaconda.com/distribution/) locally\n",
        "\n",
        "Install required Python packages:\n",
        "- [pandas-profiling](https://github.com/pandas-profiling/pandas-profiling), version >= 2.0\n",
        "- [Plotly](https://plot.ly/python/getting-started/), version >= 4.0\n",
        "\n",
        "```\n",
        "conda install -c conda-forge pandas-profiling plotly\n",
        "```"
      ]
    },
    {
      "cell_type": "code",
      "metadata": {
        "id": "Y6ZJ6-iNn8OX",
        "colab_type": "code",
        "colab": {}
      },
      "source": [
        "# If you're in Colab...\n",
        "import os, sys\n",
        "in_colab = 'google.colab' in sys.modules\n",
        "\n",
        "if in_colab:\n",
        "    # Install required python packages:\n",
        "    # pandas-profiling, version >= 2.0\n",
        "    # plotly, version >= 4.0\n",
        "    !pip install --upgrade pandas-profiling plotly\n",
        "    \n",
        "    # Pull files from Github repo\n",
        "    os.chdir('/content')\n",
        "    !git init .\n",
        "    !git remote add origin https://github.com/LambdaSchool/DS-Unit-2-Regression-Classification.git\n",
        "    !git pull origin master\n",
        "    \n",
        "    # Change into directory for module\n",
        "    os.chdir('module1')"
      ],
      "execution_count": 0,
      "outputs": []
    },
    {
      "cell_type": "code",
      "metadata": {
        "id": "o2BSHnxm5fMK",
        "colab_type": "code",
        "colab": {}
      },
      "source": [
        "# Ignore this Numpy warning when using Plotly Express:\n",
        "# FutureWarning: Method .ptp is deprecated and will be removed in a future version. Use numpy.ptp instead.\n",
        "import warnings\n",
        "warnings.filterwarnings(action='ignore', category=FutureWarning, module='numpy')"
      ],
      "execution_count": 0,
      "outputs": []
    },
    {
      "cell_type": "markdown",
      "metadata": {
        "id": "mO41X6jUd2j_",
        "colab_type": "text"
      },
      "source": [
        "# Predict how much a NYC condo costs 🏠💸\n",
        "\n",
        "[Amateurs & Experts Guess How Much a NYC Condo With a Private Terrace Costs](https://www.youtube.com/watch?v=JQCctBOgH9I)\n",
        "\n",
        "> Real Estate Agent Leonard Steinberg just sold a pre-war condo in New York City's Tribeca neighborhood. We challenged three people - an apartment renter, an apartment owner and a real estate expert - to try to guess how much the apartment sold for. Leonard reveals more and more details to them as they refine their guesses.\n",
        "\n",
        "\n",
        "The condo is 1,497 square feet.\n",
        "\n",
        "Here are the final guesses:\n",
        "\n",
        "- Apartment Renter: \\$15 million\n",
        "- Apartment Buyer: \\$2.2 million\n",
        "- Real Estate Expert: \\$2.2 million\n",
        "\n",
        "Let's see how we compare!\n",
        "\n",
        "First, we need data:\n",
        "\n",
        "- [Kaggle has NYC property sales data](https://www.kaggle.com/new-york-city/nyc-property-sales), but it's not up-to-date.\n",
        "- The data comes from the [New York City Department of Finance](https://www1.nyc.gov/site/finance/taxes/property-rolling-sales-data.page). There's also a glossary of property sales terms and NYC Building Class Code Descriptions\n",
        "- The data can also be found on the [NYC OpenData](https://data.cityofnewyork.us/browse?q=NYC%20calendar%20sales) portal."
      ]
    },
    {
      "cell_type": "markdown",
      "metadata": {
        "id": "Ty9T92NgBFt0",
        "colab_type": "text"
      },
      "source": [
        "## Clean data & remove outliers"
      ]
    },
    {
      "cell_type": "code",
      "metadata": {
        "id": "QihCzoqwpGgc",
        "colab_type": "code",
        "colab": {}
      },
      "source": [
        "import pandas as pd\n",
        "import pandas_profiling\n",
        "\n",
        "# Read New York City property sales data\n",
        "df = pd.read_csv('../data/NYC_Citywide_Rolling_Calendar_Sales.csv')\n",
        "\n",
        "# Change column names: replace spaces with underscores\n",
        "df.columns = [col.replace(' ', '_') for col in df]\n",
        "\n",
        "# Get Pandas Profiling Report\n",
        "df.profile_report()"
      ],
      "execution_count": 0,
      "outputs": []
    },
    {
      "cell_type": "code",
      "metadata": {
        "id": "JLC-_9ZlhJmy",
        "colab_type": "code",
        "colab": {}
      },
      "source": [
        ""
      ],
      "execution_count": 0,
      "outputs": []
    },
    {
      "cell_type": "markdown",
      "metadata": {
        "id": "A-kVuEQVhE-G",
        "colab_type": "text"
      },
      "source": [
        "## Plot relationship between feature & target"
      ]
    },
    {
      "cell_type": "markdown",
      "metadata": {
        "id": "21Gy9-HE5-gU",
        "colab_type": "text"
      },
      "source": [
        "- [Plotly Express](https://plot.ly/python/plotly-express/) examples\n",
        "- [plotly_express.scatter](https://www.plotly.express/plotly_express/#plotly_express.scatter) docs"
      ]
    },
    {
      "cell_type": "code",
      "metadata": {
        "id": "UGa8piHahLhp",
        "colab_type": "code",
        "colab": {}
      },
      "source": [
        ""
      ],
      "execution_count": 0,
      "outputs": []
    },
    {
      "cell_type": "markdown",
      "metadata": {
        "id": "dsb8VqcjCNrA",
        "colab_type": "text"
      },
      "source": [
        "## Use scikit-learn for Linear Regression"
      ]
    },
    {
      "cell_type": "markdown",
      "metadata": {
        "id": "tP0aeuEfCpq0",
        "colab_type": "text"
      },
      "source": [
        "#### Jake VanderPlas, [_Python Data Science Handbook_, Chapter 5.2: Introducing Scikit-Learn](https://jakevdp.github.io/PythonDataScienceHandbook/05.02-introducing-scikit-learn.html#Basics-of-the-API)\n",
        "\n",
        "The best way to think about data within Scikit-Learn is in terms of tables of data. \n",
        "\n",
        "![](https://jakevdp.github.io/PythonDataScienceHandbook/figures/05.02-samples-features.png)\n",
        "\n",
        "The features matrix is often stored in a variable named `X`. The features matrix is assumed to be two-dimensional, with shape `[n_samples, n_features]`, and is most often contained in a NumPy array or a Pandas `DataFrame`.\n",
        "\n",
        "We also generally work with a label or target array, which by convention we will usually call `y`. The target array is usually one dimensional, with length `n_samples`, and is generally contained in a NumPy array or Pandas `Series`. The target array may have continuous numerical values, or discrete classes/labels. \n",
        "\n",
        "The target array is the quantity we want to _predict from the data_: in statistical terms, it is the dependent variable. \n",
        "\n",
        "Every machine learning algorithm in Scikit-Learn is implemented via the Estimator API, which provides a consistent interface for a wide range of machine learning applications.\n",
        "\n",
        "Most commonly, the steps in using the Scikit-Learn estimator API are as follows:\n",
        "\n",
        "1. Choose a class of model by importing the appropriate estimator class from Scikit-Learn.\n",
        "2. Choose model hyperparameters by instantiating this class with desired values.\n",
        "3. Arrange data into a features matrix and target vector following the discussion above.\n",
        "4. Fit the model to your data by calling the `fit()` method of the model instance.\n",
        "5. Apply the Model to new data: For supervised learning, often we predict labels for unknown data using the `predict()` method."
      ]
    },
    {
      "cell_type": "code",
      "metadata": {
        "id": "LbVV_hC1hMmE",
        "colab_type": "code",
        "colab": {}
      },
      "source": [
        ""
      ],
      "execution_count": 0,
      "outputs": []
    },
    {
      "cell_type": "markdown",
      "metadata": {
        "id": "axVYVTHUF-s2",
        "colab_type": "text"
      },
      "source": [
        "### Organize & comment code"
      ]
    },
    {
      "cell_type": "code",
      "metadata": {
        "id": "D4zbEHE-hPWU",
        "colab_type": "code",
        "colab": {}
      },
      "source": [
        ""
      ],
      "execution_count": 0,
      "outputs": []
    },
    {
      "cell_type": "markdown",
      "metadata": {
        "id": "ZZuPg1bIfjAa",
        "colab_type": "text"
      },
      "source": [
        "# How'd we do? ..."
      ]
    }
  ]
}